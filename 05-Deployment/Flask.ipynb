{
 "cells": [
  {
   "cell_type": "markdown",
   "id": "05bdbad4-3564-45a6-badd-13e729039677",
   "metadata": {},
   "source": [
    "- A web service is a method  for communicating between  two devices over a network. So let’s say we have our web service and a user who wants to make a request. So the user sends the request with some information. The request has some parameters, then the user gets back result with the answer of this request.\n",
    "- We use Flask for implementing the web service and it takes care of all the internals."
   ]
  },
  {
   "cell_type": "markdown",
   "id": "2cbe845c-97e1-400a-9cef-eb521df30e54",
   "metadata": {},
   "source": [
    "### Writing a Simple Ping/pong function"
   ]
  },
  {
   "cell_type": "markdown",
   "id": "92cb74a7-fdaa-4d6b-8f22-df991efb002e",
   "metadata": {},
   "source": [
    "In a simple sample implementation we want to create a ping/pong service. This means we send a 'ping' request to a web service, and \n",
    "it responds with 'pong'.To achive this we create a file named ping.py with the content of next line"
   ]
  },
  {
   "cell_type": "code",
   "execution_count": 1,
   "id": "45ccb001-f3c6-4824-9865-5bb1550ace75",
   "metadata": {},
   "outputs": [],
   "source": [
    "def ping():\n",
    "    return \"PONG\""
   ]
  },
  {
   "cell_type": "code",
   "execution_count": 2,
   "id": "ad52f6eb-1fb3-4f2a-9c23-c9b0880454fd",
   "metadata": {},
   "outputs": [
    {
     "ename": "ModuleNotFoundError",
     "evalue": "No module named 'flask'",
     "output_type": "error",
     "traceback": [
      "\u001b[31m---------------------------------------------------------------------------\u001b[39m",
      "\u001b[31mModuleNotFoundError\u001b[39m                       Traceback (most recent call last)",
      "\u001b[36mCell\u001b[39m\u001b[36m \u001b[39m\u001b[32mIn[2]\u001b[39m\u001b[32m, line 1\u001b[39m\n\u001b[32m----> \u001b[39m\u001b[32m1\u001b[39m \u001b[38;5;28;01mfrom\u001b[39;00m\u001b[38;5;250m \u001b[39m\u001b[34;01mflask\u001b[39;00m\u001b[38;5;250m \u001b[39m\u001b[38;5;28;01mimport\u001b[39;00m Flask\n\u001b[32m      3\u001b[39m app = Flask(\u001b[33m'\u001b[39m\u001b[33mping\u001b[39m\u001b[33m'\u001b[39m)\n\u001b[32m      5\u001b[39m \u001b[38;5;129m@app\u001b[39m.route(\u001b[33m'\u001b[39m\u001b[33m/ping\u001b[39m\u001b[33m'\u001b[39m, methods=[\u001b[33m'\u001b[39m\u001b[33mGET\u001b[39m\u001b[33m'\u001b[39m])\n\u001b[32m      6\u001b[39m \u001b[38;5;28;01mdef\u001b[39;00m\u001b[38;5;250m \u001b[39m\u001b[34mping\u001b[39m():\n",
      "\u001b[31mModuleNotFoundError\u001b[39m: No module named 'flask'"
     ]
    }
   ],
   "source": [
    "from flask import Flask\n",
    " \n",
    "app = Flask('ping')\n",
    " \n",
    "@app.route('/ping', methods=['GET'])\n",
    "def ping():\n",
    "    return \"PONG\"\n",
    " \n",
    "if __name__ == \"__main__\":\n",
    "    app.run(debug=True, host='0.0.0.0', port=9696)"
   ]
  },
  {
   "cell_type": "code",
   "execution_count": 3,
   "id": "6354c90c-8254-4f34-8f28-0f7aecc05b9c",
   "metadata": {},
   "outputs": [
    {
     "name": "stdout",
     "output_type": "stream",
     "text": [
      "Collecting waitress\n",
      "  Downloading waitress-3.0.2-py3-none-any.whl.metadata (5.8 kB)\n",
      "Downloading waitress-3.0.2-py3-none-any.whl (56 kB)\n",
      "Installing collected packages: waitress\n",
      "Successfully installed waitress-3.0.2\n",
      "Note: you may need to restart the kernel to use updated packages.\n"
     ]
    }
   ],
   "source": [
    "pip install waitress"
   ]
  },
  {
   "cell_type": "code",
   "execution_count": 4,
   "id": "0a73d179-108a-4416-aa16-2b4688934e2d",
   "metadata": {},
   "outputs": [
    {
     "name": "stdout",
     "output_type": "stream",
     "text": [
      "Collecting flask\n",
      "  Downloading flask-3.1.2-py3-none-any.whl.metadata (3.2 kB)\n",
      "Collecting blinker>=1.9.0 (from flask)\n",
      "  Using cached blinker-1.9.0-py3-none-any.whl.metadata (1.6 kB)\n",
      "Collecting click>=8.1.3 (from flask)\n",
      "  Downloading click-8.3.0-py3-none-any.whl.metadata (2.6 kB)\n",
      "Collecting itsdangerous>=2.2.0 (from flask)\n",
      "  Using cached itsdangerous-2.2.0-py3-none-any.whl.metadata (1.9 kB)\n",
      "Requirement already satisfied: jinja2>=3.1.2 in c:\\users\\ajay\\miniconda3\\lib\\site-packages (from flask) (3.1.6)\n",
      "Requirement already satisfied: markupsafe>=2.1.1 in c:\\users\\ajay\\miniconda3\\lib\\site-packages (from flask) (3.0.3)\n",
      "Collecting werkzeug>=3.1.0 (from flask)\n",
      "  Downloading werkzeug-3.1.3-py3-none-any.whl.metadata (3.7 kB)\n",
      "Requirement already satisfied: colorama in c:\\users\\ajay\\miniconda3\\lib\\site-packages (from click>=8.1.3->flask) (0.4.6)\n",
      "Downloading flask-3.1.2-py3-none-any.whl (103 kB)\n",
      "Using cached blinker-1.9.0-py3-none-any.whl (8.5 kB)\n",
      "Downloading click-8.3.0-py3-none-any.whl (107 kB)\n",
      "Using cached itsdangerous-2.2.0-py3-none-any.whl (16 kB)\n",
      "Downloading werkzeug-3.1.3-py3-none-any.whl (224 kB)\n",
      "Installing collected packages: werkzeug, itsdangerous, click, blinker, flask\n",
      "Successfully installed blinker-1.9.0 click-8.3.0 flask-3.1.2 itsdangerous-2.2.0 werkzeug-3.1.3\n",
      "Note: you may need to restart the kernel to use updated packages.\n"
     ]
    }
   ],
   "source": [
    "pip install flask"
   ]
  },
  {
   "cell_type": "code",
   "execution_count": null,
   "id": "29e84b4e-2fd2-4cee-893e-2c05fd4d5da2",
   "metadata": {},
   "outputs": [],
   "source": []
  }
 ],
 "metadata": {
  "kernelspec": {
   "display_name": "Python 3 (ipykernel)",
   "language": "python",
   "name": "python3"
  },
  "language_info": {
   "codemirror_mode": {
    "name": "ipython",
    "version": 3
   },
   "file_extension": ".py",
   "mimetype": "text/x-python",
   "name": "python",
   "nbconvert_exporter": "python",
   "pygments_lexer": "ipython3",
   "version": "3.13.2"
  }
 },
 "nbformat": 4,
 "nbformat_minor": 5
}
