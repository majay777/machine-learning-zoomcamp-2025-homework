{
 "cells": [
  {
   "cell_type": "code",
   "execution_count": 312,
   "id": "5aa0f417-ec57-43a8-9a1a-201c65d5d825",
   "metadata": {},
   "outputs": [],
   "source": [
    "import numpy as np\n",
    "import pandas as pd\n",
    "df = pd.read_csv(\"../Data/car_fuel_efficiency.csv\")"
   ]
  },
  {
   "cell_type": "code",
   "execution_count": 313,
   "id": "63850019-8bc9-4b30-996a-680922fbf263",
   "metadata": {},
   "outputs": [],
   "source": [
    "df = df[[\n",
    "    'engine_displacement',\n",
    "    'horsepower',\n",
    "    'vehicle_weight',\n",
    "    'model_year',\n",
    "    'fuel_efficiency_mpg'\n",
    "]]"
   ]
  },
  {
   "cell_type": "code",
   "execution_count": 314,
   "id": "8dfb8c14-15f5-4606-b941-837bf4274999",
   "metadata": {},
   "outputs": [
    {
     "data": {
      "text/plain": [
       "engine_displacement      0\n",
       "horsepower             708\n",
       "vehicle_weight           0\n",
       "model_year               0\n",
       "fuel_efficiency_mpg      0\n",
       "dtype: int64"
      ]
     },
     "execution_count": 314,
     "metadata": {},
     "output_type": "execute_result"
    }
   ],
   "source": [
    "df.isnull().sum()"
   ]
  },
  {
   "cell_type": "code",
   "execution_count": 315,
   "id": "8ec9c161-88ab-451e-95d2-3f8610a2b2e3",
   "metadata": {},
   "outputs": [
    {
     "name": "stdout",
     "output_type": "stream",
     "text": [
      "engine_displacement\n",
      "[170 130 220 210 190]\n",
      "36\n",
      "\n",
      "horsepower\n",
      "[159.  97.  78.  nan 140.]\n",
      "192\n",
      "\n",
      "vehicle_weight\n",
      "[3413.43375861 3149.66493422 3079.03899737 2542.39240183 3460.87098999]\n",
      "9704\n",
      "\n",
      "model_year\n",
      "[2003 2007 2018 2009 2008]\n",
      "24\n",
      "\n",
      "fuel_efficiency_mpg\n",
      "[13.23172891 13.68821744 14.246341   16.9127356  12.48836912]\n",
      "9704\n",
      "\n"
     ]
    }
   ],
   "source": [
    "for col in df.columns:\n",
    "    print(col)\n",
    "    print(df[col].unique()[:5])\n",
    "    print(df[col].nunique())\n",
    "    print()"
   ]
  },
  {
   "cell_type": "code",
   "execution_count": 316,
   "id": "a92736a2-53e3-4f19-99d5-981c1a6b6ab1",
   "metadata": {},
   "outputs": [
    {
     "data": {
      "text/plain": [
       "count    8996.000000\n",
       "mean      149.657292\n",
       "std        29.879555\n",
       "min        37.000000\n",
       "25%       130.000000\n",
       "50%       149.000000\n",
       "75%       170.000000\n",
       "max       271.000000\n",
       "Name: horsepower, dtype: float64"
      ]
     },
     "execution_count": 316,
     "metadata": {},
     "output_type": "execute_result"
    }
   ],
   "source": [
    "df.horsepower.describe()"
   ]
  },
  {
   "cell_type": "code",
   "execution_count": 317,
   "id": "d655d69b-81a6-4b52-93cd-71ee8f8437a0",
   "metadata": {},
   "outputs": [],
   "source": [
    "# Shuffle the DataFrame with seed 42\n",
    "df = df.sample(frac=1, random_state=9).reset_index(drop=True)"
   ]
  },
  {
   "cell_type": "code",
   "execution_count": 318,
   "id": "c29261ef-a024-4dad-8a11-dd6890cae16e",
   "metadata": {},
   "outputs": [
    {
     "data": {
      "text/plain": [
       "np.float64(149.65729212983547)"
      ]
     },
     "execution_count": 318,
     "metadata": {},
     "output_type": "execute_result"
    }
   ],
   "source": [
    "df.horsepower.mean()"
   ]
  },
  {
   "cell_type": "code",
   "execution_count": 319,
   "id": "b65518d9-39ee-4f20-9f38-c0f09dc0171f",
   "metadata": {},
   "outputs": [
    {
     "data": {
      "text/html": [
       "<div>\n",
       "<style scoped>\n",
       "    .dataframe tbody tr th:only-of-type {\n",
       "        vertical-align: middle;\n",
       "    }\n",
       "\n",
       "    .dataframe tbody tr th {\n",
       "        vertical-align: top;\n",
       "    }\n",
       "\n",
       "    .dataframe thead th {\n",
       "        text-align: right;\n",
       "    }\n",
       "</style>\n",
       "<table border=\"1\" class=\"dataframe\">\n",
       "  <thead>\n",
       "    <tr style=\"text-align: right;\">\n",
       "      <th></th>\n",
       "      <th>engine_displacement</th>\n",
       "      <th>horsepower</th>\n",
       "      <th>vehicle_weight</th>\n",
       "      <th>model_year</th>\n",
       "      <th>fuel_efficiency_mpg</th>\n",
       "    </tr>\n",
       "  </thead>\n",
       "  <tbody>\n",
       "    <tr>\n",
       "      <th>0</th>\n",
       "      <td>240</td>\n",
       "      <td>136.0</td>\n",
       "      <td>4050.512290</td>\n",
       "      <td>2006</td>\n",
       "      <td>10.304700</td>\n",
       "    </tr>\n",
       "    <tr>\n",
       "      <th>1</th>\n",
       "      <td>190</td>\n",
       "      <td>141.0</td>\n",
       "      <td>3195.866942</td>\n",
       "      <td>2017</td>\n",
       "      <td>13.479434</td>\n",
       "    </tr>\n",
       "    <tr>\n",
       "      <th>2</th>\n",
       "      <td>200</td>\n",
       "      <td>184.0</td>\n",
       "      <td>3006.164370</td>\n",
       "      <td>2017</td>\n",
       "      <td>16.190653</td>\n",
       "    </tr>\n",
       "    <tr>\n",
       "      <th>3</th>\n",
       "      <td>200</td>\n",
       "      <td>NaN</td>\n",
       "      <td>2947.143980</td>\n",
       "      <td>2022</td>\n",
       "      <td>15.446503</td>\n",
       "    </tr>\n",
       "    <tr>\n",
       "      <th>4</th>\n",
       "      <td>250</td>\n",
       "      <td>132.0</td>\n",
       "      <td>3114.371978</td>\n",
       "      <td>2001</td>\n",
       "      <td>14.472172</td>\n",
       "    </tr>\n",
       "    <tr>\n",
       "      <th>...</th>\n",
       "      <td>...</td>\n",
       "      <td>...</td>\n",
       "      <td>...</td>\n",
       "      <td>...</td>\n",
       "      <td>...</td>\n",
       "    </tr>\n",
       "    <tr>\n",
       "      <th>9699</th>\n",
       "      <td>130</td>\n",
       "      <td>190.0</td>\n",
       "      <td>2929.265698</td>\n",
       "      <td>2018</td>\n",
       "      <td>16.408894</td>\n",
       "    </tr>\n",
       "    <tr>\n",
       "      <th>9700</th>\n",
       "      <td>270</td>\n",
       "      <td>127.0</td>\n",
       "      <td>3489.985764</td>\n",
       "      <td>2017</td>\n",
       "      <td>12.502945</td>\n",
       "    </tr>\n",
       "    <tr>\n",
       "      <th>9701</th>\n",
       "      <td>240</td>\n",
       "      <td>177.0</td>\n",
       "      <td>3348.840052</td>\n",
       "      <td>2010</td>\n",
       "      <td>13.245621</td>\n",
       "    </tr>\n",
       "    <tr>\n",
       "      <th>9702</th>\n",
       "      <td>250</td>\n",
       "      <td>150.0</td>\n",
       "      <td>2985.704630</td>\n",
       "      <td>2022</td>\n",
       "      <td>15.215270</td>\n",
       "    </tr>\n",
       "    <tr>\n",
       "      <th>9703</th>\n",
       "      <td>230</td>\n",
       "      <td>192.0</td>\n",
       "      <td>3124.473642</td>\n",
       "      <td>2014</td>\n",
       "      <td>14.509000</td>\n",
       "    </tr>\n",
       "  </tbody>\n",
       "</table>\n",
       "<p>9704 rows × 5 columns</p>\n",
       "</div>"
      ],
      "text/plain": [
       "      engine_displacement  horsepower  vehicle_weight  model_year  \\\n",
       "0                     240       136.0     4050.512290        2006   \n",
       "1                     190       141.0     3195.866942        2017   \n",
       "2                     200       184.0     3006.164370        2017   \n",
       "3                     200         NaN     2947.143980        2022   \n",
       "4                     250       132.0     3114.371978        2001   \n",
       "...                   ...         ...             ...         ...   \n",
       "9699                  130       190.0     2929.265698        2018   \n",
       "9700                  270       127.0     3489.985764        2017   \n",
       "9701                  240       177.0     3348.840052        2010   \n",
       "9702                  250       150.0     2985.704630        2022   \n",
       "9703                  230       192.0     3124.473642        2014   \n",
       "\n",
       "      fuel_efficiency_mpg  \n",
       "0               10.304700  \n",
       "1               13.479434  \n",
       "2               16.190653  \n",
       "3               15.446503  \n",
       "4               14.472172  \n",
       "...                   ...  \n",
       "9699            16.408894  \n",
       "9700            12.502945  \n",
       "9701            13.245621  \n",
       "9702            15.215270  \n",
       "9703            14.509000  \n",
       "\n",
       "[9704 rows x 5 columns]"
      ]
     },
     "execution_count": 319,
     "metadata": {},
     "output_type": "execute_result"
    }
   ],
   "source": [
    "df"
   ]
  },
  {
   "cell_type": "code",
   "execution_count": 320,
   "id": "bfa025e4-b67b-460f-9fad-d53dbb6e16b8",
   "metadata": {},
   "outputs": [],
   "source": [
    "df['horsepower'] = df['horsepower'].fillna(0)"
   ]
  },
  {
   "cell_type": "code",
   "execution_count": 321,
   "id": "32cd37a0-13e7-4a71-9d8f-c3f22a2c83d5",
   "metadata": {},
   "outputs": [
    {
     "data": {
      "text/html": [
       "<div>\n",
       "<style scoped>\n",
       "    .dataframe tbody tr th:only-of-type {\n",
       "        vertical-align: middle;\n",
       "    }\n",
       "\n",
       "    .dataframe tbody tr th {\n",
       "        vertical-align: top;\n",
       "    }\n",
       "\n",
       "    .dataframe thead th {\n",
       "        text-align: right;\n",
       "    }\n",
       "</style>\n",
       "<table border=\"1\" class=\"dataframe\">\n",
       "  <thead>\n",
       "    <tr style=\"text-align: right;\">\n",
       "      <th></th>\n",
       "      <th>engine_displacement</th>\n",
       "      <th>horsepower</th>\n",
       "      <th>vehicle_weight</th>\n",
       "      <th>model_year</th>\n",
       "      <th>fuel_efficiency_mpg</th>\n",
       "    </tr>\n",
       "  </thead>\n",
       "  <tbody>\n",
       "    <tr>\n",
       "      <th>0</th>\n",
       "      <td>240</td>\n",
       "      <td>136.0</td>\n",
       "      <td>4050.512290</td>\n",
       "      <td>2006</td>\n",
       "      <td>10.304700</td>\n",
       "    </tr>\n",
       "    <tr>\n",
       "      <th>1</th>\n",
       "      <td>190</td>\n",
       "      <td>141.0</td>\n",
       "      <td>3195.866942</td>\n",
       "      <td>2017</td>\n",
       "      <td>13.479434</td>\n",
       "    </tr>\n",
       "    <tr>\n",
       "      <th>2</th>\n",
       "      <td>200</td>\n",
       "      <td>184.0</td>\n",
       "      <td>3006.164370</td>\n",
       "      <td>2017</td>\n",
       "      <td>16.190653</td>\n",
       "    </tr>\n",
       "    <tr>\n",
       "      <th>3</th>\n",
       "      <td>200</td>\n",
       "      <td>0.0</td>\n",
       "      <td>2947.143980</td>\n",
       "      <td>2022</td>\n",
       "      <td>15.446503</td>\n",
       "    </tr>\n",
       "    <tr>\n",
       "      <th>4</th>\n",
       "      <td>250</td>\n",
       "      <td>132.0</td>\n",
       "      <td>3114.371978</td>\n",
       "      <td>2001</td>\n",
       "      <td>14.472172</td>\n",
       "    </tr>\n",
       "    <tr>\n",
       "      <th>...</th>\n",
       "      <td>...</td>\n",
       "      <td>...</td>\n",
       "      <td>...</td>\n",
       "      <td>...</td>\n",
       "      <td>...</td>\n",
       "    </tr>\n",
       "    <tr>\n",
       "      <th>9699</th>\n",
       "      <td>130</td>\n",
       "      <td>190.0</td>\n",
       "      <td>2929.265698</td>\n",
       "      <td>2018</td>\n",
       "      <td>16.408894</td>\n",
       "    </tr>\n",
       "    <tr>\n",
       "      <th>9700</th>\n",
       "      <td>270</td>\n",
       "      <td>127.0</td>\n",
       "      <td>3489.985764</td>\n",
       "      <td>2017</td>\n",
       "      <td>12.502945</td>\n",
       "    </tr>\n",
       "    <tr>\n",
       "      <th>9701</th>\n",
       "      <td>240</td>\n",
       "      <td>177.0</td>\n",
       "      <td>3348.840052</td>\n",
       "      <td>2010</td>\n",
       "      <td>13.245621</td>\n",
       "    </tr>\n",
       "    <tr>\n",
       "      <th>9702</th>\n",
       "      <td>250</td>\n",
       "      <td>150.0</td>\n",
       "      <td>2985.704630</td>\n",
       "      <td>2022</td>\n",
       "      <td>15.215270</td>\n",
       "    </tr>\n",
       "    <tr>\n",
       "      <th>9703</th>\n",
       "      <td>230</td>\n",
       "      <td>192.0</td>\n",
       "      <td>3124.473642</td>\n",
       "      <td>2014</td>\n",
       "      <td>14.509000</td>\n",
       "    </tr>\n",
       "  </tbody>\n",
       "</table>\n",
       "<p>9704 rows × 5 columns</p>\n",
       "</div>"
      ],
      "text/plain": [
       "      engine_displacement  horsepower  vehicle_weight  model_year  \\\n",
       "0                     240       136.0     4050.512290        2006   \n",
       "1                     190       141.0     3195.866942        2017   \n",
       "2                     200       184.0     3006.164370        2017   \n",
       "3                     200         0.0     2947.143980        2022   \n",
       "4                     250       132.0     3114.371978        2001   \n",
       "...                   ...         ...             ...         ...   \n",
       "9699                  130       190.0     2929.265698        2018   \n",
       "9700                  270       127.0     3489.985764        2017   \n",
       "9701                  240       177.0     3348.840052        2010   \n",
       "9702                  250       150.0     2985.704630        2022   \n",
       "9703                  230       192.0     3124.473642        2014   \n",
       "\n",
       "      fuel_efficiency_mpg  \n",
       "0               10.304700  \n",
       "1               13.479434  \n",
       "2               16.190653  \n",
       "3               15.446503  \n",
       "4               14.472172  \n",
       "...                   ...  \n",
       "9699            16.408894  \n",
       "9700            12.502945  \n",
       "9701            13.245621  \n",
       "9702            15.215270  \n",
       "9703            14.509000  \n",
       "\n",
       "[9704 rows x 5 columns]"
      ]
     },
     "execution_count": 321,
     "metadata": {},
     "output_type": "execute_result"
    }
   ],
   "source": [
    "df"
   ]
  },
  {
   "cell_type": "code",
   "execution_count": 322,
   "id": "f7109ae9-7cae-4401-bc51-13c86102ab96",
   "metadata": {},
   "outputs": [],
   "source": [
    "n = len(df)\n",
    "n_val = int(n * 0.2)\n",
    "n_test = int(n * 0.2)\n",
    "n_train = n- (n_val+n_test)\n"
   ]
  },
  {
   "cell_type": "code",
   "execution_count": 323,
   "id": "de1da53c-65c2-4806-a221-02c4f0aa88de",
   "metadata": {},
   "outputs": [
    {
     "data": {
      "text/plain": [
       "(9704, 9704)"
      ]
     },
     "execution_count": 323,
     "metadata": {},
     "output_type": "execute_result"
    }
   ],
   "source": [
    "n, n_val+ n_test+ n_train"
   ]
  },
  {
   "cell_type": "code",
   "execution_count": 324,
   "id": "5e2da670-202e-4dea-91a9-677a56750ce6",
   "metadata": {},
   "outputs": [
    {
     "data": {
      "text/html": [
       "<div>\n",
       "<style scoped>\n",
       "    .dataframe tbody tr th:only-of-type {\n",
       "        vertical-align: middle;\n",
       "    }\n",
       "\n",
       "    .dataframe tbody tr th {\n",
       "        vertical-align: top;\n",
       "    }\n",
       "\n",
       "    .dataframe thead th {\n",
       "        text-align: right;\n",
       "    }\n",
       "</style>\n",
       "<table border=\"1\" class=\"dataframe\">\n",
       "  <thead>\n",
       "    <tr style=\"text-align: right;\">\n",
       "      <th></th>\n",
       "      <th>engine_displacement</th>\n",
       "      <th>horsepower</th>\n",
       "      <th>vehicle_weight</th>\n",
       "      <th>model_year</th>\n",
       "      <th>fuel_efficiency_mpg</th>\n",
       "    </tr>\n",
       "  </thead>\n",
       "  <tbody>\n",
       "    <tr>\n",
       "      <th>0</th>\n",
       "      <td>240</td>\n",
       "      <td>136.0</td>\n",
       "      <td>4050.512290</td>\n",
       "      <td>2006</td>\n",
       "      <td>10.304700</td>\n",
       "    </tr>\n",
       "    <tr>\n",
       "      <th>1</th>\n",
       "      <td>190</td>\n",
       "      <td>141.0</td>\n",
       "      <td>3195.866942</td>\n",
       "      <td>2017</td>\n",
       "      <td>13.479434</td>\n",
       "    </tr>\n",
       "    <tr>\n",
       "      <th>2</th>\n",
       "      <td>200</td>\n",
       "      <td>184.0</td>\n",
       "      <td>3006.164370</td>\n",
       "      <td>2017</td>\n",
       "      <td>16.190653</td>\n",
       "    </tr>\n",
       "  </tbody>\n",
       "</table>\n",
       "</div>"
      ],
      "text/plain": [
       "   engine_displacement  horsepower  vehicle_weight  model_year  \\\n",
       "0                  240       136.0     4050.512290        2006   \n",
       "1                  190       141.0     3195.866942        2017   \n",
       "2                  200       184.0     3006.164370        2017   \n",
       "\n",
       "   fuel_efficiency_mpg  \n",
       "0            10.304700  \n",
       "1            13.479434  \n",
       "2            16.190653  "
      ]
     },
     "execution_count": 324,
     "metadata": {},
     "output_type": "execute_result"
    }
   ],
   "source": [
    "df.iloc[[0, 1, 2]]"
   ]
  },
  {
   "cell_type": "code",
   "execution_count": 325,
   "id": "eead7e6e-a73f-4ae5-9d3e-eaa0ff773cee",
   "metadata": {},
   "outputs": [],
   "source": [
    "df_train = df.iloc[n_train:]\n",
    "df_val = df.iloc[n_train: n_train+ n_val]\n",
    "df_test = df.iloc[n_train+n_val:]\n",
    "\n"
   ]
  },
  {
   "cell_type": "code",
   "execution_count": 326,
   "id": "d8e1c886-bdfb-4fd8-aed3-d2b70f10c285",
   "metadata": {},
   "outputs": [
    {
     "data": {
      "text/html": [
       "<div>\n",
       "<style scoped>\n",
       "    .dataframe tbody tr th:only-of-type {\n",
       "        vertical-align: middle;\n",
       "    }\n",
       "\n",
       "    .dataframe tbody tr th {\n",
       "        vertical-align: top;\n",
       "    }\n",
       "\n",
       "    .dataframe thead th {\n",
       "        text-align: right;\n",
       "    }\n",
       "</style>\n",
       "<table border=\"1\" class=\"dataframe\">\n",
       "  <thead>\n",
       "    <tr style=\"text-align: right;\">\n",
       "      <th></th>\n",
       "      <th>engine_displacement</th>\n",
       "      <th>horsepower</th>\n",
       "      <th>vehicle_weight</th>\n",
       "      <th>model_year</th>\n",
       "      <th>fuel_efficiency_mpg</th>\n",
       "    </tr>\n",
       "  </thead>\n",
       "  <tbody>\n",
       "    <tr>\n",
       "      <th>5824</th>\n",
       "      <td>180</td>\n",
       "      <td>175.0</td>\n",
       "      <td>2775.381743</td>\n",
       "      <td>2014</td>\n",
       "      <td>15.931657</td>\n",
       "    </tr>\n",
       "    <tr>\n",
       "      <th>5825</th>\n",
       "      <td>160</td>\n",
       "      <td>166.0</td>\n",
       "      <td>3542.655183</td>\n",
       "      <td>2012</td>\n",
       "      <td>13.130355</td>\n",
       "    </tr>\n",
       "    <tr>\n",
       "      <th>5826</th>\n",
       "      <td>250</td>\n",
       "      <td>173.0</td>\n",
       "      <td>1354.787120</td>\n",
       "      <td>2007</td>\n",
       "      <td>22.858156</td>\n",
       "    </tr>\n",
       "    <tr>\n",
       "      <th>5827</th>\n",
       "      <td>260</td>\n",
       "      <td>75.0</td>\n",
       "      <td>2531.997079</td>\n",
       "      <td>2005</td>\n",
       "      <td>16.399893</td>\n",
       "    </tr>\n",
       "    <tr>\n",
       "      <th>5828</th>\n",
       "      <td>250</td>\n",
       "      <td>175.0</td>\n",
       "      <td>2609.369103</td>\n",
       "      <td>2004</td>\n",
       "      <td>17.464552</td>\n",
       "    </tr>\n",
       "    <tr>\n",
       "      <th>...</th>\n",
       "      <td>...</td>\n",
       "      <td>...</td>\n",
       "      <td>...</td>\n",
       "      <td>...</td>\n",
       "      <td>...</td>\n",
       "    </tr>\n",
       "    <tr>\n",
       "      <th>9699</th>\n",
       "      <td>130</td>\n",
       "      <td>190.0</td>\n",
       "      <td>2929.265698</td>\n",
       "      <td>2018</td>\n",
       "      <td>16.408894</td>\n",
       "    </tr>\n",
       "    <tr>\n",
       "      <th>9700</th>\n",
       "      <td>270</td>\n",
       "      <td>127.0</td>\n",
       "      <td>3489.985764</td>\n",
       "      <td>2017</td>\n",
       "      <td>12.502945</td>\n",
       "    </tr>\n",
       "    <tr>\n",
       "      <th>9701</th>\n",
       "      <td>240</td>\n",
       "      <td>177.0</td>\n",
       "      <td>3348.840052</td>\n",
       "      <td>2010</td>\n",
       "      <td>13.245621</td>\n",
       "    </tr>\n",
       "    <tr>\n",
       "      <th>9702</th>\n",
       "      <td>250</td>\n",
       "      <td>150.0</td>\n",
       "      <td>2985.704630</td>\n",
       "      <td>2022</td>\n",
       "      <td>15.215270</td>\n",
       "    </tr>\n",
       "    <tr>\n",
       "      <th>9703</th>\n",
       "      <td>230</td>\n",
       "      <td>192.0</td>\n",
       "      <td>3124.473642</td>\n",
       "      <td>2014</td>\n",
       "      <td>14.509000</td>\n",
       "    </tr>\n",
       "  </tbody>\n",
       "</table>\n",
       "<p>3880 rows × 5 columns</p>\n",
       "</div>"
      ],
      "text/plain": [
       "      engine_displacement  horsepower  vehicle_weight  model_year  \\\n",
       "5824                  180       175.0     2775.381743        2014   \n",
       "5825                  160       166.0     3542.655183        2012   \n",
       "5826                  250       173.0     1354.787120        2007   \n",
       "5827                  260        75.0     2531.997079        2005   \n",
       "5828                  250       175.0     2609.369103        2004   \n",
       "...                   ...         ...             ...         ...   \n",
       "9699                  130       190.0     2929.265698        2018   \n",
       "9700                  270       127.0     3489.985764        2017   \n",
       "9701                  240       177.0     3348.840052        2010   \n",
       "9702                  250       150.0     2985.704630        2022   \n",
       "9703                  230       192.0     3124.473642        2014   \n",
       "\n",
       "      fuel_efficiency_mpg  \n",
       "5824            15.931657  \n",
       "5825            13.130355  \n",
       "5826            22.858156  \n",
       "5827            16.399893  \n",
       "5828            17.464552  \n",
       "...                   ...  \n",
       "9699            16.408894  \n",
       "9700            12.502945  \n",
       "9701            13.245621  \n",
       "9702            15.215270  \n",
       "9703            14.509000  \n",
       "\n",
       "[3880 rows x 5 columns]"
      ]
     },
     "execution_count": 326,
     "metadata": {},
     "output_type": "execute_result"
    }
   ],
   "source": [
    "df_train"
   ]
  },
  {
   "cell_type": "code",
   "execution_count": 327,
   "id": "2a4c7928-d19b-4a89-acc1-d4c0b7146e37",
   "metadata": {},
   "outputs": [],
   "source": [
    "# df_val_zero = df_val['horsepower'].fillna(0)\n",
    "# df_test_zero = df_test['horsepower'].fillna(0)\n",
    "# df_train_zero = df_train['horsepower'].fillna(0)\n",
    "\n",
    "# df_val_mean = df_val['horsepower'].fillna(149.657292)\n",
    "# df_test_mean = df_test['horsepower'].fillna(149.657292)\n",
    "# df_train_mean = df_train['horsepower'].fillna(149.657292)"
   ]
  },
  {
   "cell_type": "code",
   "execution_count": 328,
   "id": "5181ae59-f928-4af9-b6ba-d37e8ad63ccc",
   "metadata": {},
   "outputs": [
    {
     "data": {
      "text/plain": [
       "Index(['engine_displacement', 'horsepower', 'vehicle_weight', 'model_year',\n",
       "       'fuel_efficiency_mpg'],\n",
       "      dtype='object')"
      ]
     },
     "execution_count": 328,
     "metadata": {},
     "output_type": "execute_result"
    }
   ],
   "source": [
    "df_train.columns"
   ]
  },
  {
   "cell_type": "code",
   "execution_count": 329,
   "id": "6bcc4c29-a094-43fa-b744-12c71279ff14",
   "metadata": {},
   "outputs": [],
   "source": [
    "\n",
    "\n",
    "y_train_orig = df_train.fuel_efficiency_mpg.values\n",
    "y_val_orig = df_val.fuel_efficiency_mpg.values\n",
    "y_test_orig = df_val.fuel_efficiency_mpg.values\n",
    "\n",
    "y_train = np.log1p(df_train.fuel_efficiency_mpg.values)\n",
    "y_val = np.log1p(df_val.fuel_efficiency_mpg.values)\n",
    "y_test = np.log1p(df_val.fuel_efficiency_mpg.values)\n",
    "\n",
    "\n",
    "del df_train['fuel_efficiency_mpg']\n",
    "del df_val['fuel_efficiency_mpg']\n",
    "del df_test['fuel_efficiency_mpg']"
   ]
  },
  {
   "cell_type": "code",
   "execution_count": 330,
   "id": "611356fe-47ca-4929-ae66-5f143ef0d89d",
   "metadata": {},
   "outputs": [],
   "source": [
    "\n",
    "\n",
    "def train_linear_regression(X, y):\n",
    "    ones = np.ones(X.shape[0])\n",
    "    X = np.column_stack([ones, X])\n",
    "\n",
    "    XTX = X.T.dot(X)\n",
    "    XTX_inv = np.linalg.inv(XTX)\n",
    "    w = XTX_inv.dot(X.T).dot(y)\n",
    "    \n",
    "    return w[0], w[1:]\n",
    "\n"
   ]
  },
  {
   "cell_type": "code",
   "execution_count": 331,
   "id": "1d6ce529-82c6-48a4-96a6-8e25cbd910ae",
   "metadata": {},
   "outputs": [],
   "source": [
    "base = ['engine_displacement', 'horsepower', 'vehicle_weight', 'model_year']"
   ]
  },
  {
   "cell_type": "code",
   "execution_count": 332,
   "id": "828fc151-1f87-4d25-8054-b9a50717c886",
   "metadata": {},
   "outputs": [],
   "source": [
    "\n",
    "\n",
    "def prepare_X(df, f):\n",
    "    df_num = df[base]\n",
    "    df_num = df_num.fillna(f)\n",
    "    X = df_num.values\n",
    "    return X\n",
    "\n"
   ]
  },
  {
   "cell_type": "code",
   "execution_count": 333,
   "id": "d7fb3470-0c0e-47ff-8715-ff187e25875e",
   "metadata": {},
   "outputs": [],
   "source": [
    "X_train = prepare_X(df_train, f)\n",
    "w_0, w = train_linear_regression(X_train, y_train)"
   ]
  },
  {
   "cell_type": "code",
   "execution_count": 334,
   "id": "c95c1800-73e9-44af-9eda-169241dcd105",
   "metadata": {},
   "outputs": [],
   "source": [
    "\n",
    "\n",
    "y_pred = w_0 + X_train.dot(w)\n",
    "\n"
   ]
  },
  {
   "cell_type": "markdown",
   "id": "31d2f3f5-74a4-4e74-9ce1-2823e5000b5b",
   "metadata": {},
   "source": [
    "## RMSE"
   ]
  },
  {
   "cell_type": "code",
   "execution_count": 335,
   "id": "40d9367a-b0ab-4ea3-946d-1c3c2fd45e5a",
   "metadata": {},
   "outputs": [],
   "source": [
    "def rmse(y, y_pred):\n",
    "    error = y-y_pred\n",
    "    se = error ** 2\n",
    "    mse = se.mean()\n",
    "    return np.sqrt(mse)"
   ]
  },
  {
   "cell_type": "code",
   "execution_count": 336,
   "id": "d09515ea-edaf-4e90-abbf-1746d0d31ed6",
   "metadata": {},
   "outputs": [
    {
     "data": {
      "text/plain": [
       "np.float64(0.038879474264375824)"
      ]
     },
     "execution_count": 336,
     "metadata": {},
     "output_type": "execute_result"
    }
   ],
   "source": [
    "rmse(y_train, y_pred)"
   ]
  },
  {
   "cell_type": "code",
   "execution_count": 337,
   "id": "58788251-6f4b-4248-87a9-97cd0e6261b4",
   "metadata": {},
   "outputs": [],
   "source": [
    "\n",
    "\n",
    "X_val = prepare_X(df_val)\n",
    "y_pred = w_0 + X_val.dot(w)\n",
    "\n"
   ]
  },
  {
   "cell_type": "code",
   "execution_count": 338,
   "id": "d1a67548-e208-421b-8caa-e568657cd0c0",
   "metadata": {},
   "outputs": [
    {
     "data": {
      "text/plain": [
       "np.float64(0.03859510526930455)"
      ]
     },
     "execution_count": 338,
     "metadata": {},
     "output_type": "execute_result"
    }
   ],
   "source": [
    "\n",
    "\n",
    "rmse(y_val, y_pred)\n",
    "\n"
   ]
  },
  {
   "cell_type": "code",
   "execution_count": 339,
   "id": "8b1930aa-05f4-48a3-a35b-5ae0cbfa3b64",
   "metadata": {},
   "outputs": [],
   "source": [
    "def train_linear_regression_reg(X, y, r=0.0):\n",
    "    ones = np.ones(X.shape[0])\n",
    "    X = np.column_stack([ones, X])\n",
    "\n",
    "    XTX = X.T.dot(X)\n",
    "    reg = r * np.eye(XTX.shape[0])\n",
    "    XTX = XTX + reg\n",
    "\n",
    "    XTX_inv = np.linalg.inv(XTX)\n",
    "    w = XTX_inv.dot(X.T).dot(y)\n",
    "    \n",
    "    return w[0], w[1:]"
   ]
  },
  {
   "cell_type": "code",
   "execution_count": 340,
   "id": "71dec138-111a-4f70-afaf-7b4fa470fcb5",
   "metadata": {},
   "outputs": [],
   "source": [
    "\n",
    "\n",
    "X_train = prepare_X(df_train)\n",
    "\n"
   ]
  },
  {
   "cell_type": "code",
   "execution_count": 341,
   "id": "edc3e3b1-871e-49b2-a549-a5a688239b47",
   "metadata": {},
   "outputs": [
    {
     "name": "stdout",
     "output_type": "stream",
     "text": [
      "    0, 3.62, 0.00, -0.00\n",
      "0.001, 3.54, 0.00, -0.00\n",
      " 0.01, 2.93, 0.00, -0.00\n",
      "  0.1, 1.09, 0.00, -0.00\n",
      "    1, 0.15, 0.00, -0.00\n",
      "   10, 0.02, 0.00, -0.00\n",
      "  100, 0.00, 0.00, -0.00\n"
     ]
    }
   ],
   "source": [
    "\n",
    "\n",
    "for r in [0, 0.001, 0.01, 0.1, 1, 10, 100]:\n",
    "    w_0, w = train_linear_regression_reg(X_train, y_train, r=r)\n",
    "    print('%5s, %.2f, %.2f, %.2f' % (r, w_0, w[1], w[2]))\n",
    "\n",
    "\n",
    "\n"
   ]
  },
  {
   "cell_type": "code",
   "execution_count": 342,
   "id": "a7709112-f0d8-40e0-8f67-2840633b606e",
   "metadata": {},
   "outputs": [
    {
     "name": "stdout",
     "output_type": "stream",
     "text": [
      "train 0.038879474264375824\n",
      "val 0.03859510526930455\n"
     ]
    }
   ],
   "source": [
    "X_train = prepare_X(df_train)\n",
    "w_0, w = train_linear_regression_reg(X_train, y_train, r=0)\n",
    "\n",
    "y_pred = w_0 + X_train.dot(w)\n",
    "print('train', rmse(y_train, y_pred))\n",
    "\n",
    "X_val = prepare_X(df_val)\n",
    "y_pred = w_0 + X_val.dot(w)\n",
    "print('val', rmse(y_val, y_pred))"
   ]
  },
  {
   "cell_type": "code",
   "execution_count": 343,
   "id": "e02be86d-d9a0-4efa-867e-c82d5650fb99",
   "metadata": {},
   "outputs": [
    {
     "name": "stdout",
     "output_type": "stream",
     "text": [
      "train 0.03894596509366817\n",
      "val 0.038639966179458966\n"
     ]
    }
   ],
   "source": [
    "X_train = prepare_X(df_train)\n",
    "w_0, w = train_linear_regression_reg(X_train, y_train, r=0.01)\n",
    "\n",
    "y_pred = w_0 + X_train.dot(w)\n",
    "print('train', rmse(y_train, y_pred))\n",
    "\n",
    "X_val = prepare_X(df_val)\n",
    "y_pred = w_0 + X_val.dot(w)\n",
    "print('val', rmse(y_val, y_pred))"
   ]
  },
  {
   "cell_type": "code",
   "execution_count": 344,
   "id": "88385e38-16f0-42d0-9ce0-63864ae432bd",
   "metadata": {},
   "outputs": [
    {
     "name": "stdout",
     "output_type": "stream",
     "text": [
      " 1e-06 0.039\n",
      "0.0001 0.039\n",
      " 0.001 0.039\n",
      "  0.01 0.039\n",
      "   0.1 0.039\n",
      "     1 0.04\n",
      "     5 0.04\n",
      "    10 0.04\n",
      "   100 0.04\n"
     ]
    }
   ],
   "source": [
    "X_train = prepare_X(df_train)\n",
    "X_val = prepare_X(df_val)\n",
    "\n",
    "for r in [0.000001, 0.0001, 0.001, 0.01, 0.1, 1, 5, 10, 100]:\n",
    "    w_0, w = train_linear_regression_reg(X_train, y_train, r=r)\n",
    "    y_pred = w_0 + X_val.dot(w)\n",
    "    print('%6s' %r, round(rmse(y_val, y_pred), 3))\n"
   ]
  },
  {
   "cell_type": "code",
   "execution_count": 345,
   "id": "37bb85b8-fb4a-4016-89e6-98df5009cb43",
   "metadata": {},
   "outputs": [
    {
     "name": "stdout",
     "output_type": "stream",
     "text": [
      "test: 0.2267282632640925\n"
     ]
    }
   ],
   "source": [
    "X_test = prepare_X(df_test)\n",
    "y_pred = w_0 + X_test.dot(w)\n",
    "print('test:', rmse(y_test, y_pred))"
   ]
  },
  {
   "cell_type": "code",
   "execution_count": null,
   "id": "fa57171c-2f0f-43cf-a84f-1db1a992fc4a",
   "metadata": {},
   "outputs": [],
   "source": []
  },
  {
   "cell_type": "code",
   "execution_count": 346,
   "id": "b1ca3bf1-f55a-4b10-a141-bb6c8754b93a",
   "metadata": {},
   "outputs": [],
   "source": [
    "df = pd.read_csv(\"../Data/car_fuel_efficiency.csv\")"
   ]
  },
  {
   "cell_type": "code",
   "execution_count": 347,
   "id": "e7ce1111-9239-49c7-9cfb-272aeeea1fba",
   "metadata": {},
   "outputs": [],
   "source": [
    "df = df[[\n",
    "    'engine_displacement',\n",
    "    'horsepower',\n",
    "    'vehicle_weight',\n",
    "    'model_year',\n",
    "    'fuel_efficiency_mpg'\n",
    "]]"
   ]
  },
  {
   "cell_type": "code",
   "execution_count": 348,
   "id": "100bd58c-53df-42d8-9f97-8edfafb30ef2",
   "metadata": {},
   "outputs": [],
   "source": [
    "df['horsepower'] = df['horsepower'].fillna(df.horsepower.mean())"
   ]
  },
  {
   "cell_type": "code",
   "execution_count": 349,
   "id": "e95cbd6c-6a44-4ad1-a83d-b7d72643f870",
   "metadata": {},
   "outputs": [],
   "source": [
    "# Shuffle the DataFrame with seed 42\n",
    "df = df.sample(frac=1, random_state=42).reset_index(drop=True)"
   ]
  },
  {
   "cell_type": "code",
   "execution_count": 350,
   "id": "86e0c049-b284-4293-b787-c2ff755cb941",
   "metadata": {},
   "outputs": [],
   "source": [
    "n = len(df)\n",
    "n_val = int(n * 0.2)\n",
    "n_test = int(n * 0.2)\n",
    "n_train = int(n * 0.6)\n"
   ]
  },
  {
   "cell_type": "code",
   "execution_count": 351,
   "id": "08262d76-6bec-4c52-83e8-a3ba75c8114a",
   "metadata": {},
   "outputs": [],
   "source": [
    "df_train = df.iloc[n_train:]\n",
    "df_val = df.iloc[n_train: n_train+ n_val]\n",
    "df_test = df.iloc[n_train+n_val:]"
   ]
  },
  {
   "cell_type": "code",
   "execution_count": 352,
   "id": "d37748ba-4361-4897-86e3-3ccf0671e51d",
   "metadata": {},
   "outputs": [],
   "source": [
    "\n",
    "\n",
    "y_train_orig = df_train.fuel_efficiency_mpg.values\n",
    "y_val_orig = df_val.fuel_efficiency_mpg.values\n",
    "y_test_orig = df_val.fuel_efficiency_mpg.values\n",
    "\n",
    "y_train = np.log1p(df_train.fuel_efficiency_mpg.values)\n",
    "y_val = np.log1p(df_val.fuel_efficiency_mpg.values)\n",
    "y_test = np.log1p(df_val.fuel_efficiency_mpg.values)\n",
    "\n",
    "del df_train['fuel_efficiency_mpg']\n",
    "del df_val['fuel_efficiency_mpg']\n",
    "del df_test['fuel_efficiency_mpg']"
   ]
  },
  {
   "cell_type": "code",
   "execution_count": 353,
   "id": "399f365a-9509-4bf5-b728-e9da5dc70ce0",
   "metadata": {},
   "outputs": [],
   "source": [
    "X_train = prepare_X(df_train)\n",
    "w_0, w = train_linear_regression(X_train, y_train)"
   ]
  },
  {
   "cell_type": "code",
   "execution_count": 354,
   "id": "e424c026-509a-40ca-97c8-92196b4307c0",
   "metadata": {},
   "outputs": [],
   "source": [
    "y_pred = w_0 + X_train.dot(w)"
   ]
  },
  {
   "cell_type": "code",
   "execution_count": 355,
   "id": "d1c5539d-77dc-4ea8-8ccc-da53e8c3e9ca",
   "metadata": {},
   "outputs": [
    {
     "data": {
      "text/plain": [
       "np.float64(0.036067282910292466)"
      ]
     },
     "execution_count": 355,
     "metadata": {},
     "output_type": "execute_result"
    }
   ],
   "source": [
    "rmse(y_train, y_pred)"
   ]
  },
  {
   "cell_type": "code",
   "execution_count": 356,
   "id": "19999149-8115-4463-bb49-bbdcab1ff0ab",
   "metadata": {},
   "outputs": [],
   "source": [
    "\n",
    "X_val = prepare_X(df_val)\n",
    "y_pred = w_0 + X_val.dot(w)"
   ]
  },
  {
   "cell_type": "code",
   "execution_count": 357,
   "id": "ec49709f-7b15-45e7-a6c1-b24943a17298",
   "metadata": {},
   "outputs": [
    {
     "data": {
      "text/plain": [
       "np.float64(0.03732890159944149)"
      ]
     },
     "execution_count": 357,
     "metadata": {},
     "output_type": "execute_result"
    }
   ],
   "source": [
    "rmse(y_val, y_pred)"
   ]
  },
  {
   "cell_type": "code",
   "execution_count": 358,
   "id": "3068382e-c0dd-4bc3-bfee-e4421c59c970",
   "metadata": {},
   "outputs": [],
   "source": [
    "X_train = prepare_X(df_train)"
   ]
  },
  {
   "cell_type": "code",
   "execution_count": 359,
   "id": "19ea9184-ce52-40e8-8f77-7ff732a5d012",
   "metadata": {},
   "outputs": [
    {
     "name": "stdout",
     "output_type": "stream",
     "text": [
      "    0, 3.54, 0.00, -0.00\n",
      "train 0.036067282910292466\n",
      "val 0.03732890159944149\n",
      "0.001, 3.45, 0.00, -0.00\n",
      "train 0.036068288768327364\n",
      "val 0.037327828861128294\n",
      " 0.01, 2.86, 0.00, -0.00\n",
      "train 0.03613619398943273\n",
      "val 0.037379419813634525\n",
      "  0.1, 1.05, 0.00, -0.00\n",
      "train 0.03698849629510014\n",
      "val 0.03817104624641738\n",
      "    1, 0.14, 0.00, -0.00\n",
      "train 0.03776735444438928\n",
      "val 0.03891495746073317\n",
      "   10, 0.01, 0.00, -0.00\n",
      "train 0.0378956901031735\n",
      "val 0.039038191547834944\n",
      "  100, 0.00, 0.00, -0.00\n",
      "train 0.03790931101763537\n",
      "val 0.0390512790694323\n"
     ]
    }
   ],
   "source": [
    "\n",
    "for r in [0, 0.001, 0.01, 0.1, 1, 10, 100]:\n",
    "    w_0, w = train_linear_regression_reg(X_train, y_train, r=r)\n",
    "    print('%5s, %.2f, %.2f, %.2f' % (r, w_0, w[1], w[2]))\n",
    "    y_pred = w_0 + X_train.dot(w)\n",
    "    print('train', rmse(y_train, y_pred))\n",
    "\n",
    "    X_val = prepare_X(df_val)\n",
    "    y_pred = w_0 + X_val.dot(w)\n",
    "    print('val', rmse(y_val, y_pred))"
   ]
  },
  {
   "cell_type": "code",
   "execution_count": 360,
   "id": "6cedbaf8-e386-4917-8a8a-23459303543f",
   "metadata": {},
   "outputs": [
    {
     "name": "stdout",
     "output_type": "stream",
     "text": [
      "train 0.036067282910292466\n",
      "val 0.03732890159944149\n"
     ]
    }
   ],
   "source": [
    "X_train = prepare_X(df_train)\n",
    "w_0, w = train_linear_regression_reg(X_train, y_train, r=0)\n",
    "\n",
    "y_pred = w_0 + X_train.dot(w)\n",
    "print('train', rmse(y_train, y_pred))\n",
    "\n",
    "X_val = prepare_X(df_val)\n",
    "y_pred = w_0 + X_val.dot(w)\n",
    "print('val', rmse(y_val, y_pred))"
   ]
  },
  {
   "cell_type": "code",
   "execution_count": null,
   "id": "c74e7567-7e11-48da-9794-22f0bd1bdcbc",
   "metadata": {},
   "outputs": [],
   "source": []
  },
  {
   "cell_type": "code",
   "execution_count": null,
   "id": "715d31e8-26ee-4b5b-bbf9-c43867f0e353",
   "metadata": {},
   "outputs": [],
   "source": []
  },
  {
   "cell_type": "code",
   "execution_count": null,
   "id": "3ddf97c2-0689-46ca-a741-5e0e959f1b35",
   "metadata": {},
   "outputs": [],
   "source": []
  }
 ],
 "metadata": {
  "kernelspec": {
   "display_name": "Python 3 (ipykernel)",
   "language": "python",
   "name": "python3"
  },
  "language_info": {
   "codemirror_mode": {
    "name": "ipython",
    "version": 3
   },
   "file_extension": ".py",
   "mimetype": "text/x-python",
   "name": "python",
   "nbconvert_exporter": "python",
   "pygments_lexer": "ipython3",
   "version": "3.13.2"
  }
 },
 "nbformat": 4,
 "nbformat_minor": 5
}
